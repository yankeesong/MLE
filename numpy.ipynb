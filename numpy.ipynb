{
  "cells": [
    {
      "cell_type": "markdown",
      "metadata": {
        "id": "view-in-github",
        "colab_type": "text"
      },
      "source": [
        "<a href=\"https://colab.research.google.com/github/yankeesong/MLE/blob/main/numpy.ipynb\" target=\"_parent\"><img src=\"https://colab.research.google.com/assets/colab-badge.svg\" alt=\"Open In Colab\"/></a>"
      ]
    },
    {
      "cell_type": "markdown",
      "source": [
        "Numpy introduction!"
      ],
      "metadata": {
        "id": "IMB7GFrgahUW"
      },
      "id": "IMB7GFrgahUW"
    },
    {
      "cell_type": "code",
      "execution_count": 2,
      "id": "1406c5f3",
      "metadata": {
        "id": "1406c5f3",
        "outputId": "00c434de-b9d2-4366-a696-204ab31d4d06",
        "colab": {
          "base_uri": "https://localhost:8080/",
          "height": 35
        }
      },
      "outputs": [
        {
          "output_type": "execute_result",
          "data": {
            "text/plain": [
              "'1.21.6'"
            ],
            "application/vnd.google.colaboratory.intrinsic+json": {
              "type": "string"
            }
          },
          "metadata": {},
          "execution_count": 2
        }
      ],
      "source": [
        "import numpy as np\n",
        "np.__version__"
      ]
    },
    {
      "cell_type": "markdown",
      "source": [
        "Arrays\n",
        "1. Arrays lengths are immutable\n",
        "2. Each element must be in the same type\n",
        "3. Works pretty much as lists"
      ],
      "metadata": {
        "id": "GBPoABY9cbV5"
      },
      "id": "GBPoABY9cbV5"
    },
    {
      "cell_type": "code",
      "source": [
        "gpa_list = [[1,2,3,4],[5,6,7,8]]\n",
        "gpas = np.array(gpa_list,np.float16)\n",
        "print(len(gpas))\n",
        "print(gpas.size)\n",
        "print(gpas.shape)\n",
        "zero_array = np.zeros(100)\n",
        "one_array = np.ones(100)"
      ],
      "metadata": {
        "id": "iTcjJJXjcGTu",
        "outputId": "5850f3d0-6f73-4dea-cf78-85c4dd66987d",
        "colab": {
          "base_uri": "https://localhost:8080/"
        }
      },
      "id": "iTcjJJXjcGTu",
      "execution_count": 10,
      "outputs": [
        {
          "output_type": "stream",
          "name": "stdout",
          "text": [
            "2\n",
            "8\n",
            "(2, 4)\n"
          ]
        }
      ]
    },
    {
      "cell_type": "markdown",
      "source": [
        "Reshaping"
      ],
      "metadata": {
        "id": "sASHoQVnh0ps"
      },
      "id": "sASHoQVnh0ps"
    },
    {
      "cell_type": "code",
      "source": [
        "gpas.reshape(-1,2)\n",
        "gpas.ravel()"
      ],
      "metadata": {
        "id": "jWI2XreTh2fp",
        "outputId": "5be23b6f-2dbb-48c5-e8f7-2252bb2a7715",
        "colab": {
          "base_uri": "https://localhost:8080/"
        }
      },
      "id": "jWI2XreTh2fp",
      "execution_count": 17,
      "outputs": [
        {
          "output_type": "execute_result",
          "data": {
            "text/plain": [
              "array([1., 2., 3., 4., 5., 6., 7., 8.], dtype=float16)"
            ]
          },
          "metadata": {},
          "execution_count": 17
        }
      ]
    },
    {
      "cell_type": "markdown",
      "source": [
        "Random arrays"
      ],
      "metadata": {
        "id": "ZqE8X_mvfs6t"
      },
      "id": "ZqE8X_mvfs6t"
    },
    {
      "cell_type": "code",
      "source": [
        "rand = np.random.RandomState(100)\n",
        "rand_list = rand.randint(30,100,size=10)"
      ],
      "metadata": {
        "id": "NMd6DsNnfwux"
      },
      "id": "NMd6DsNnfwux",
      "execution_count": 13,
      "outputs": []
    },
    {
      "cell_type": "markdown",
      "source": [
        "Fast indexing"
      ],
      "metadata": {
        "id": "CskIStpNgcwV"
      },
      "id": "CskIStpNgcwV"
    },
    {
      "cell_type": "code",
      "source": [
        "a = np.array([1,2,3,4])\n",
        "a[a<3]"
      ],
      "metadata": {
        "id": "qCzurbLsgesF",
        "outputId": "20a43426-b676-45fe-c75b-c33b18921a19",
        "colab": {
          "base_uri": "https://localhost:8080/"
        }
      },
      "id": "qCzurbLsgesF",
      "execution_count": 14,
      "outputs": [
        {
          "output_type": "execute_result",
          "data": {
            "text/plain": [
              "array([1, 2])"
            ]
          },
          "metadata": {},
          "execution_count": 14
        }
      ]
    },
    {
      "cell_type": "markdown",
      "source": [
        "Data view:\n",
        "1. When we index via slicing, we are creating data view instead of new subset, so changing the subset view will also change the original data.\n",
        "\n"
      ],
      "metadata": {
        "id": "gkW3nOxQhQUr"
      },
      "id": "gkW3nOxQhQUr"
    },
    {
      "cell_type": "markdown",
      "source": [
        "Linear Algebra\n",
        "\n",
        "1. Can use @ to perform dot product\n",
        "2. axis=0 are columns, axis=1 are rows\n",
        "\n"
      ],
      "metadata": {
        "id": "NCBwlZY5zf3z"
      },
      "id": "NCBwlZY5zf3z"
    },
    {
      "cell_type": "code",
      "source": [
        "a = np.array([[1,1],[2,2]])\n",
        "print(np.mean(a,axis=0))"
      ],
      "metadata": {
        "id": "BihbbP6809OC",
        "outputId": "33575124-34cd-47ac-8f43-cca6572c850f",
        "colab": {
          "base_uri": "https://localhost:8080/"
        }
      },
      "id": "BihbbP6809OC",
      "execution_count": 3,
      "outputs": [
        {
          "output_type": "stream",
          "name": "stdout",
          "text": [
            "[1.5 1.5]\n"
          ]
        }
      ]
    }
  ],
  "metadata": {
    "kernelspec": {
      "display_name": "Python 3",
      "language": "python",
      "name": "python3"
    },
    "language_info": {
      "codemirror_mode": {
        "name": "ipython",
        "version": 3
      },
      "file_extension": ".py",
      "mimetype": "text/x-python",
      "name": "python",
      "nbconvert_exporter": "python",
      "pygments_lexer": "ipython3",
      "version": "3.7.11"
    },
    "colab": {
      "name": "numpy.ipynb",
      "provenance": [],
      "include_colab_link": true
    }
  },
  "nbformat": 4,
  "nbformat_minor": 5
}