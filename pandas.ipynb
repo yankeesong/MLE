{
  "cells": [
    {
      "cell_type": "code",
      "execution_count": null,
      "id": "8293114b",
      "metadata": {
        "id": "8293114b",
        "outputId": "e8097a1e-3342-4ed9-b608-ffd4570ee725",
        "colab": {
          "base_uri": "https://localhost:8080/",
          "height": 35
        }
      },
      "outputs": [
        {
          "output_type": "execute_result",
          "data": {
            "text/plain": [
              "'1.3.5'"
            ],
            "application/vnd.google.colaboratory.intrinsic+json": {
              "type": "string"
            }
          },
          "metadata": {},
          "execution_count": 1
        }
      ],
      "source": [
        "import pandas as pd\n",
        "pd.__version__"
      ]
    },
    {
      "cell_type": "markdown",
      "source": [
        "Series\n",
        "\n",
        "1. Like a dictionary and an array combined together. Each value has a key.\n",
        "2. Can create from an array (with additional index arguments), or a dictionary.\n",
        "\n",
        "Dataframes\n",
        "\n",
        "1. Row name is called \"index\"\n",
        "2. Column name is called \"columns\"\n"
      ],
      "metadata": {
        "id": "0PcfxzGr28f2"
      },
      "id": "0PcfxzGr28f2"
    },
    {
      "cell_type": "code",
      "source": [
        "s = pd.Series([1, 3, 5, np.nan, 6, 8])\n",
        "df = pd.DataFrame(np.random.randn(6, 4), index=dates, columns=list(\"ABCD\"))\n",
        "df2 = pd.DataFrame(\n",
        "    {\n",
        "        \"A\": 1.0,\n",
        "        \"B\": pd.Timestamp(\"20130102\"),\n",
        "        \"C\": pd.Series(1, index=list(range(4)), dtype=\"float32\"),\n",
        "        \"D\": np.array([3] * 4, dtype=\"int32\"),\n",
        "        \"E\": pd.Categorical([\"test\", \"train\", \"test\", \"train\"]),\n",
        "        \"F\": \"foo\",\n",
        "    }\n",
        ")"
      ],
      "metadata": {
        "id": "iKx50Wlc1jga"
      },
      "id": "iKx50Wlc1jga",
      "execution_count": null,
      "outputs": []
    },
    {
      "cell_type": "markdown",
      "source": [
        "Indexing\n",
        "\n",
        "1. Row indexing: df.iloc[i], df.loc['row'],df[i:j].\n",
        "  Notice that when slicing with names, they are inclusive.\n",
        "2. Column indexing: df['col'], df.col\n",
        "3. Idem indexing: df.loc['row','col'], df.iloc[i,j]\n",
        "\n",
        "\n"
      ],
      "metadata": {
        "id": "IuQgXRTj33TT"
      },
      "id": "IuQgXRTj33TT"
    },
    {
      "cell_type": "markdown",
      "source": [
        "Input and Output\n",
        "\n",
        "1.   List item\n",
        "2.   List item\n",
        "\n"
      ],
      "metadata": {
        "id": "gfXT2Sin54TJ"
      },
      "id": "gfXT2Sin54TJ"
    },
    {
      "cell_type": "code",
      "source": [
        "pd.read_csv(file,index_col=0)\n",
        "df.to_csv(file)"
      ],
      "metadata": {
        "id": "oanYEn-a6GdV"
      },
      "id": "oanYEn-a6GdV",
      "execution_count": null,
      "outputs": []
    },
    {
      "cell_type": "markdown",
      "source": [
        "EDA"
      ],
      "metadata": {
        "id": "92Z_Ietb6KhE"
      },
      "id": "92Z_Ietb6KhE"
    },
    {
      "cell_type": "code",
      "source": [
        "df.head()\n",
        "df.tail(3)\n",
        "df.index\n",
        "df.columns\n",
        "df.shape\n",
        "df.dtypes\n",
        "df.count()\n",
        "df.describe()\n",
        "df.sort_index(axis=1, ascending=False)\n",
        "df.sort_values(by='col', ascending=False, inplace=True)\n",
        "df.reset_index(drop=True)"
      ],
      "metadata": {
        "id": "KTD1k0-c6L2g"
      },
      "id": "KTD1k0-c6L2g",
      "execution_count": null,
      "outputs": []
    },
    {
      "cell_type": "markdown",
      "source": [
        "Value Manipulation\n"
      ],
      "metadata": {
        "id": "xLTwEVVP7N_y"
      },
      "id": "xLTwEVVP7N_y"
    },
    {
      "cell_type": "code",
      "source": [
        "df.at['row','col'] = value\n",
        "df.loc[rows,cols] = values\n",
        "df['col'] = series\n",
        "df.append(series, ignore_index=True)\n",
        "df.rename(columns={'col': 'new_col'}, inplace=True)\n",
        "df.drop(index=['row'], inplace=True)\n",
        "df.to_numpy()"
      ],
      "metadata": {
        "id": "7UlW01wk73Vv"
      },
      "id": "7UlW01wk73Vv",
      "execution_count": null,
      "outputs": []
    },
    {
      "cell_type": "markdown",
      "source": [
        "Operations\n",
        "\n",
        "1. Operations generally exclude missing data\n"
      ],
      "metadata": {
        "id": "OFoYFSch3Ka4"
      },
      "id": "OFoYFSch3Ka4"
    },
    {
      "cell_type": "code",
      "source": [
        "df.apply(lambda x: x.max() - x.min())\n",
        "df[col] = df.apply(lambda x: x.col1 - x.col2, axis=1)"
      ],
      "metadata": {
        "id": "1VB8CHdK3sVQ"
      },
      "id": "1VB8CHdK3sVQ",
      "execution_count": null,
      "outputs": []
    },
    {
      "cell_type": "markdown",
      "source": [
        "Merging and Grouping"
      ],
      "metadata": {
        "id": "fqA-tiGu2UMI"
      },
      "id": "fqA-tiGu2UMI"
    },
    {
      "cell_type": "code",
      "source": [
        "pieces = [df[:3], df[3:7], df[7:]]\n",
        "pd.concat(pieces)\n",
        "pd.merge(left, right, on=\"key\")\n",
        "df.groupby(\"A\").sum()\n",
        "df.groupby([\"A\", \"B\"]).agg({col1:'sum',col2:'mean'})"
      ],
      "metadata": {
        "id": "LAi82XKF2Vl_"
      },
      "id": "LAi82XKF2Vl_",
      "execution_count": null,
      "outputs": []
    },
    {
      "cell_type": "markdown",
      "source": [
        "Reshaping (Hierarchical Indexing), Time Series, Categoricals: see https://pandas.pydata.org/docs/user_guide/10min.html"
      ],
      "metadata": {
        "id": "Jc29OcYaZVz8"
      },
      "id": "Jc29OcYaZVz8"
    }
  ],
  "metadata": {
    "kernelspec": {
      "display_name": "Python 3",
      "language": "python",
      "name": "python3"
    },
    "language_info": {
      "codemirror_mode": {
        "name": "ipython",
        "version": 3
      },
      "file_extension": ".py",
      "mimetype": "text/x-python",
      "name": "python",
      "nbconvert_exporter": "python",
      "pygments_lexer": "ipython3",
      "version": "3.7.11"
    },
    "colab": {
      "name": "pandas.ipynb",
      "provenance": []
    }
  },
  "nbformat": 4,
  "nbformat_minor": 5
}