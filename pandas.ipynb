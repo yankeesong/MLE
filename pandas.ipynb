{
  "cells": [
    {
      "cell_type": "code",
      "execution_count": null,
      "id": "8293114b",
      "metadata": {
        "colab": {
          "base_uri": "https://localhost:8080/",
          "height": 35
        },
        "id": "8293114b",
        "outputId": "e8097a1e-3342-4ed9-b608-ffd4570ee725"
      },
      "outputs": [
        {
          "data": {
            "application/vnd.google.colaboratory.intrinsic+json": {
              "type": "string"
            },
            "text/plain": [
              "'1.3.5'"
            ]
          },
          "execution_count": 1,
          "metadata": {},
          "output_type": "execute_result"
        }
      ],
      "source": [
        "import pandas as pd\n",
        "pd.__version__"
      ]
    },
    {
      "cell_type": "markdown",
      "id": "0PcfxzGr28f2",
      "metadata": {
        "id": "0PcfxzGr28f2"
      },
      "source": [
        "Series\n",
        "\n",
        "1. Like a dictionary and an array combined together. Each value has a key.\n",
        "2. Can create from an array (with additional index arguments), or a dictionary.\n",
        "\n",
        "Dataframes\n",
        "\n",
        "1. Row name is called \"index\"\n",
        "2. Column name is called \"columns\"\n"
      ]
    },
    {
      "cell_type": "code",
      "execution_count": null,
      "id": "iKx50Wlc1jga",
      "metadata": {
        "id": "iKx50Wlc1jga"
      },
      "outputs": [],
      "source": [
        "s = pd.Series([1, 3, 5, np.nan, 6, 8])\n",
        "df = pd.DataFrame(np.random.randn(6, 4), index=dates, columns=list(\"ABCD\"))\n",
        "df2 = pd.DataFrame(\n",
        "    {\n",
        "        \"A\": 1.0,\n",
        "        \"B\": pd.Timestamp(\"20130102\"),\n",
        "        \"C\": pd.Series(1, index=list(range(4)), dtype=\"float32\"),\n",
        "        \"D\": np.array([3] * 4, dtype=\"int32\"),\n",
        "        \"E\": pd.Categorical([\"test\", \"train\", \"test\", \"train\"]),\n",
        "        \"F\": \"foo\",\n",
        "    }\n",
        ")"
      ]
    },
    {
      "cell_type": "markdown",
      "id": "IuQgXRTj33TT",
      "metadata": {
        "id": "IuQgXRTj33TT"
      },
      "source": [
        "Indexing\n",
        "\n",
        "1. Row indexing: df.iloc[i], df.loc['row'],df[i:j].\n",
        "  Notice that when slicing with names, they are inclusive.\n",
        "2. Column indexing: df['col'], df.col\n",
        "3. Idem indexing: df.loc['row','col'], df.iloc[i,j]\n",
        "\n",
        "\n"
      ]
    },
    {
      "cell_type": "markdown",
      "id": "gfXT2Sin54TJ",
      "metadata": {
        "id": "gfXT2Sin54TJ"
      },
      "source": [
        "Input and Output\n",
        "\n",
        "1.   List item\n",
        "2.   List item\n",
        "\n"
      ]
    },
    {
      "cell_type": "code",
      "execution_count": null,
      "id": "oanYEn-a6GdV",
      "metadata": {
        "id": "oanYEn-a6GdV"
      },
      "outputs": [],
      "source": [
        "pd.read_csv(file,index_col=0)\n",
        "df.to_csv(file)"
      ]
    },
    {
      "cell_type": "markdown",
      "id": "92Z_Ietb6KhE",
      "metadata": {
        "id": "92Z_Ietb6KhE"
      },
      "source": [
        "EDA"
      ]
    },
    {
      "cell_type": "code",
      "execution_count": null,
      "id": "KTD1k0-c6L2g",
      "metadata": {
        "id": "KTD1k0-c6L2g"
      },
      "outputs": [],
      "source": [
        "df.head()\n",
        "df.tail(3)\n",
        "df.index\n",
        "df.columns\n",
        "df.shape\n",
        "df.dtypes\n",
        "df.count()\n",
        "df.describe()\n",
        "df.sort_index(axis=1, ascending=False)\n",
        "df.sort_values(by='col', ascending=False, inplace=True)\n",
        "df.reset_index(drop=True)"
      ]
    },
    {
      "cell_type": "markdown",
      "id": "xLTwEVVP7N_y",
      "metadata": {
        "id": "xLTwEVVP7N_y"
      },
      "source": [
        "Value Manipulation\n"
      ]
    },
    {
      "cell_type": "code",
      "execution_count": null,
      "id": "7UlW01wk73Vv",
      "metadata": {
        "id": "7UlW01wk73Vv"
      },
      "outputs": [],
      "source": [
        "df.at['row','col'] = value\n",
        "df.loc[rows,cols] = values\n",
        "df['col'] = series\n",
        "df.append(series, ignore_index=True)\n",
        "df.rename(columns={'col': 'new_col'}, inplace=True)\n",
        "df.drop(index=['row'], inplace=True)\n",
        "df.to_numpy()"
      ]
    },
    {
      "cell_type": "markdown",
      "id": "OFoYFSch3Ka4",
      "metadata": {
        "id": "OFoYFSch3Ka4"
      },
      "source": [
        "Operations\n",
        "\n",
        "1. Operations generally exclude missing data\n"
      ]
    },
    {
      "cell_type": "code",
      "execution_count": null,
      "id": "1VB8CHdK3sVQ",
      "metadata": {
        "id": "1VB8CHdK3sVQ"
      },
      "outputs": [],
      "source": [
        "df.apply(lambda x: x.max() - x.min())\n",
        "df[col] = df.apply(lambda x: x.col1 - x.col2, axis=1)"
      ]
    },
    {
      "cell_type": "markdown",
      "id": "fqA-tiGu2UMI",
      "metadata": {
        "id": "fqA-tiGu2UMI"
      },
      "source": [
        "Merging and Grouping"
      ]
    },
    {
      "cell_type": "code",
      "execution_count": null,
      "id": "LAi82XKF2Vl_",
      "metadata": {
        "id": "LAi82XKF2Vl_"
      },
      "outputs": [],
      "source": [
        "pieces = [df[:3], df[3:7], df[7:]]\n",
        "pd.concat(pieces)\n",
        "pd.merge(left, right, on=\"key\")\n",
        "df.groupby(\"A\").sum()\n",
        "df.groupby([\"A\", \"B\"]).agg({col1:'sum',col2:'mean'})"
      ]
    },
    {
      "cell_type": "markdown",
      "id": "Jc29OcYaZVz8",
      "metadata": {
        "id": "Jc29OcYaZVz8"
      },
      "source": [
        "Reshaping (Hierarchical Indexing), Time Series, Categoricals: see https://pandas.pydata.org/docs/user_guide/10min.html"
      ]
    }
  ],
  "metadata": {
    "colab": {
      "name": "pandas.ipynb",
      "provenance": []
    },
    "kernelspec": {
      "display_name": "Python 3.9.7 64-bit",
      "language": "python",
      "name": "python3"
    },
    "language_info": {
      "codemirror_mode": {
        "name": "ipython",
        "version": 3
      },
      "file_extension": ".py",
      "mimetype": "text/x-python",
      "name": "python",
      "nbconvert_exporter": "python",
      "pygments_lexer": "ipython3",
      "version": "3.9.7"
    },
    "vscode": {
      "interpreter": {
        "hash": "aee8b7b246df8f9039afb4144a1f6fd8d2ca17a180786b69acc140d282b71a49"
      }
    }
  },
  "nbformat": 4,
  "nbformat_minor": 5
}
