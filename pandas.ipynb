{
  "cells": [
    {
      "cell_type": "code",
      "execution_count": 1,
      "id": "8293114b",
      "metadata": {
        "id": "8293114b",
        "outputId": "e8097a1e-3342-4ed9-b608-ffd4570ee725",
        "colab": {
          "base_uri": "https://localhost:8080/",
          "height": 35
        }
      },
      "outputs": [
        {
          "output_type": "execute_result",
          "data": {
            "text/plain": [
              "'1.3.5'"
            ],
            "application/vnd.google.colaboratory.intrinsic+json": {
              "type": "string"
            }
          },
          "metadata": {},
          "execution_count": 1
        }
      ],
      "source": [
        "import pandas as pd\n",
        "pd.__version__"
      ]
    },
    {
      "cell_type": "markdown",
      "source": [
        "Series\n",
        "\n",
        "1. Like a dictionary and an array combined together. Each value has a key.\n",
        "2. Can create from an array (with additional index arguments), or a dictionary.\n",
        "\n",
        "Dataframes\n",
        "\n",
        "1. Row name is called \"index\"\n",
        "2. Column name is called \"columns\"\n"
      ],
      "metadata": {
        "id": "0PcfxzGr28f2"
      },
      "id": "0PcfxzGr28f2"
    },
    {
      "cell_type": "markdown",
      "source": [
        "Indexing\n",
        "\n",
        "1. Row indexing: df.iloc[1], df.loc['row'].\n",
        "  Notice that when slicing with names, they are inclusive.\n",
        "2. Column indexing: df['col'], df.col\n",
        "3. Idem indexing: df.loc['row','col']\n",
        "\n",
        "\n"
      ],
      "metadata": {
        "id": "IuQgXRTj33TT"
      },
      "id": "IuQgXRTj33TT"
    },
    {
      "cell_type": "markdown",
      "source": [
        "Input and Output\n",
        "\n",
        "1.   List item\n",
        "2.   List item\n",
        "\n"
      ],
      "metadata": {
        "id": "gfXT2Sin54TJ"
      },
      "id": "gfXT2Sin54TJ"
    },
    {
      "cell_type": "code",
      "source": [
        "pd.read_csv(file,index_col=0)"
      ],
      "metadata": {
        "id": "oanYEn-a6GdV"
      },
      "id": "oanYEn-a6GdV",
      "execution_count": null,
      "outputs": []
    },
    {
      "cell_type": "markdown",
      "source": [
        "EDA"
      ],
      "metadata": {
        "id": "92Z_Ietb6KhE"
      },
      "id": "92Z_Ietb6KhE"
    },
    {
      "cell_type": "code",
      "source": [
        "df.head()\n",
        "df.shape\n",
        "df.dtypes\n",
        "df.count()\n",
        "df.describe()\n",
        "df.sort_values(by='col', ascending=False, inplace=True)"
      ],
      "metadata": {
        "id": "KTD1k0-c6L2g"
      },
      "id": "KTD1k0-c6L2g",
      "execution_count": null,
      "outputs": []
    },
    {
      "cell_type": "markdown",
      "source": [
        "Manipulation\n"
      ],
      "metadata": {
        "id": "xLTwEVVP7N_y"
      },
      "id": "xLTwEVVP7N_y"
    },
    {
      "cell_type": "code",
      "source": [
        "df.at['row,'col'] = value\n",
        "df.append(series, ignore_index=True)\n",
        "df.rename(columns={'col': 'new_col'}, inplace=True)\n",
        "df.drop(index=['row'], inplace=True)"
      ],
      "metadata": {
        "id": "7UlW01wk73Vv"
      },
      "id": "7UlW01wk73Vv",
      "execution_count": null,
      "outputs": []
    }
  ],
  "metadata": {
    "kernelspec": {
      "display_name": "Python 3",
      "language": "python",
      "name": "python3"
    },
    "language_info": {
      "codemirror_mode": {
        "name": "ipython",
        "version": 3
      },
      "file_extension": ".py",
      "mimetype": "text/x-python",
      "name": "python",
      "nbconvert_exporter": "python",
      "pygments_lexer": "ipython3",
      "version": "3.7.11"
    },
    "colab": {
      "name": "pandas.ipynb",
      "provenance": []
    }
  },
  "nbformat": 4,
  "nbformat_minor": 5
}