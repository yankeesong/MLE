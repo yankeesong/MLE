{
  "nbformat": 4,
  "nbformat_minor": 0,
  "metadata": {
    "colab": {
      "provenance": [],
      "gpuType": "T4",
      "authorship_tag": "ABX9TyM3BkUozoGY0HaGtKSLiuGd",
      "include_colab_link": true
    },
    "kernelspec": {
      "name": "python3",
      "display_name": "Python 3"
    },
    "language_info": {
      "name": "python"
    },
    "accelerator": "GPU"
  },
  "cells": [
    {
      "cell_type": "markdown",
      "metadata": {
        "id": "view-in-github",
        "colab_type": "text"
      },
      "source": [
        "<a href=\"https://colab.research.google.com/github/yankeesong/MLE/blob/main/NerfStudio.ipynb\" target=\"_parent\"><img src=\"https://colab.research.google.com/assets/colab-badge.svg\" alt=\"Open In Colab\"/></a>"
      ]
    },
    {
      "cell_type": "code",
      "execution_count": null,
      "metadata": {
        "colab": {
          "base_uri": "https://localhost:8080/"
        },
        "id": "H4XuS9dPBecK",
        "outputId": "5babb32c-1c72-422e-881a-e7f6a7157c2f"
      },
      "outputs": [
        {
          "output_type": "stream",
          "name": "stdout",
          "text": [
            "/content\n",
            "/content/colmap\n",
            "M\tCMakeLists.txt\n",
            "Already on 'dev'\n",
            "Your branch is up to date with 'origin/dev'.\n",
            "/content/colmap/build\n",
            "-- The C compiler identification is GNU 11.3.0\n",
            "-- The CXX compiler identification is GNU 11.3.0\n",
            "-- Detecting C compiler ABI info\n",
            "-- Detecting C compiler ABI info - done\n",
            "-- Check for working C compiler: /usr/bin/cc - skipped\n",
            "-- Detecting C compile features\n",
            "-- Detecting C compile features - done\n",
            "-- Detecting CXX compiler ABI info\n",
            "-- Detecting CXX compiler ABI info - done\n",
            "-- Check for working CXX compiler: /usr/bin/c++ - skipped\n",
            "-- Detecting CXX compile features\n",
            "-- Detecting CXX compile features - done\n",
            "-- Found Boost: /usr/lib/x86_64-linux-gnu/cmake/Boost-1.74.0/BoostConfig.cmake (found version \"1.74.0\") found components: program_options filesystem graph system \n",
            "-- Found FreeImage\n",
            "--   Includes : /usr/include\n",
            "--   Libraries : /usr/lib/x86_64-linux-gnu/libfreeimage.so\n",
            "-- Found FLANN\n",
            "--   Includes : /usr/include\n",
            "--   Libraries : /usr/lib/x86_64-linux-gnu/libflann.so\n",
            "-- Found LZ4\n",
            "--   Includes : /usr/include\n",
            "--   Libraries : /usr/lib/x86_64-linux-gnu/liblz4.so\n",
            "-- Found SQLite3: /usr/include (found version \"3.37.2\") \n",
            "-- Found OpenGL: /usr/lib/x86_64-linux-gnu/libGL.so   \n",
            "-- Found Glew\n",
            "--   Includes : /usr/include\n",
            "--   Libraries : /usr/lib/x86_64-linux-gnu/libGLEW.so\n",
            "-- Found Git: /usr/bin/git (found version \"2.34.1\") \n",
            "-- Performing Test CMAKE_HAVE_LIBC_PTHREAD\n",
            "-- Performing Test CMAKE_HAVE_LIBC_PTHREAD - Success\n",
            "-- Found Threads: TRUE  \n",
            "-- Found required Ceres dependency: Eigen version 3.4.0 in /usr/include/eigen3\n",
            "-- Found required Ceres dependency: glog\n",
            "-- Found required Ceres dependency: gflags\n",
            "-- Found Ceres version: 2.0.0 installed in: /usr with components: [EigenSparse, SparseLinearAlgebraLibrary, LAPACK, SuiteSparse, CXSparse, SchurSpecializations, Multithreading]\n",
            "-- Enabling OpenMP support\n",
            "-- Using header-only CGAL\n",
            "-- Targetting Ninja\n",
            "-- Using /usr/bin/c++ compiler.\n",
            "-- Found GMP: /usr/lib/x86_64-linux-gnu/libgmp.so  \n",
            "-- Found MPFR: /usr/lib/x86_64-linux-gnu/libmpfr.so  \n",
            "-- Found Boost: /usr/lib/x86_64-linux-gnu/cmake/Boost-1.74.0/BoostConfig.cmake (found suitable version \"1.74.0\", minimum required is \"1.48\")  \n",
            "-- Boost include dirs: /usr/include\n",
            "-- Boost libraries:    \n",
            "-- Using gcc version 4 or later. Adding -frounding-math\n",
            "-- Found CGAL\n",
            "--   Includes : /usr/include\n",
            "--   Libraries : CGAL\n",
            "-- The CUDA compiler identification is NVIDIA 11.8.89\n",
            "-- Detecting CUDA compiler ABI info\n",
            "-- Detecting CUDA compiler ABI info - done\n",
            "-- Check for working CUDA compiler: /usr/local/cuda/bin/nvcc - skipped\n",
            "-- Detecting CUDA compile features\n",
            "-- Detecting CUDA compile features - done\n",
            "-- Enabling CUDA support (version: 11.8.89, archs: native)\n",
            "-- Found Qt\n",
            "--   Module : /usr/lib/x86_64-linux-gnu/cmake/Qt5Core\n",
            "--   Module : /usr/lib/x86_64-linux-gnu/cmake/Qt5OpenGL\n",
            "--   Module : /usr/lib/x86_64-linux-gnu/cmake/Qt5Widgets\n",
            "-- Enabling GUI support\n",
            "-- Enabling OpenGL support\n",
            "-- Build type not specified, using Release\n",
            "-- Enabling SIMD support\n",
            "-- Disabling interprocedural optimization\n",
            "-- Disabling ccache support\n",
            "-- Disabling profiling support\n",
            "-- Configuring done\n",
            "-- Generating done\n",
            "-- Build files have been written to: /content/colmap/build\n",
            "[66/206] Building CXX object src/colmap/estimators/CMakeFiles/colmap_estimators.dir/affine_transform.cc.o\u001b[K"
          ]
        }
      ],
      "source": [
        "\n",
        "#@markdown Install Nerfstudio and Dependencies (~8 min)\n",
        "\n",
        "# %cd /content/\n",
        "# !pip install --upgrade pip\n",
        "# !pip install torch==2.0.1+cu118 torchvision==0.15.2+cu118 --extra-index-url https://download.pytorch.org/whl/cu118\n",
        "\n",
        "# Installing TinyCuda\n",
        "# %cd /content/\n",
        "# !gdown \"https://drive.google.com/u/1/uc?id=1-7x7qQfB7bIw2zV4Lr6-yhvMpjXC84Q5&confirm=t\"\n",
        "# !pip install tinycudann-1.7-cp310-cp310-linux_x86_64.whl\n",
        "\n",
        "# # Installing COLMAP\n",
        "# %cd /content/\n",
        "# !sudo apt-get install \\\n",
        "#     git \\\n",
        "#     cmake \\\n",
        "#     ninja-build \\\n",
        "#     build-essential \\\n",
        "#     libboost-program-options-dev \\\n",
        "#     libboost-filesystem-dev \\\n",
        "#     libboost-graph-dev \\\n",
        "#     libboost-system-dev \\\n",
        "#     libboost-test-dev \\\n",
        "#     libeigen3-dev \\\n",
        "#     libflann-dev \\\n",
        "#     libfreeimage-dev \\\n",
        "#     libmetis-dev \\\n",
        "#     libgoogle-glog-dev \\\n",
        "#     libgflags-dev \\\n",
        "#     libsqlite3-dev \\\n",
        "#     libglew-dev \\\n",
        "#     qtbase5-dev \\\n",
        "#     libqt5opengl5-dev \\\n",
        "#     libcgal-dev \\\n",
        "#     libceres-dev\n",
        "\n",
        "# !sudo apt-get install gcc-10 g++-10\n",
        "# !export CC=/usr/bin/gcc-10\n",
        "# !export CXX=/usr/bin/g++-10\n",
        "# !export CUDAHOSTCXX=/usr/bin/g++-10\n",
        "\n",
        "# COLMAP\n",
        "!export CUDA_PATH=/usr/local/cuda\n",
        "!export CPLUS_INCLUDE_PATH=$CUDA_PATH/include\n",
        "!export CMAKE_CXX_FLAGS=\"-I$CUDA_PATH/include\"\n",
        "!export CMAKE_EXE_LINKER_FLAGS=\"-L$CUDA_PATH/lib64\"\n",
        "# !git clone https://github.com/colmap/colmap.git\n",
        "%cd /content/\n",
        "%cd colmap\n",
        "!git checkout dev\n",
        "!rm -rf build\n",
        "!mkdir build\n",
        "%cd build\n",
        "!cmake -DCMAKE_CUDA_ARCHITECTURES='native' .. -GNinja\n",
        "!ninja\n",
        "!sudo ninja install\n",
        "\n",
        "# Install nerfstudio\n",
        "# %cd /content/\n",
        "# !pip install git+https://github.com/nerfstudio-project/nerfstudio.git"
      ]
    },
    {
      "cell_type": "code",
      "source": [
        "cd /usr/local/cuda/include"
      ],
      "metadata": {
        "colab": {
          "base_uri": "https://localhost:8080/"
        },
        "id": "MVCc5vQrR0CA",
        "outputId": "794fe810-585b-459a-946c-582275ae258e"
      },
      "execution_count": 65,
      "outputs": [
        {
          "output_type": "stream",
          "name": "stdout",
          "text": [
            "/usr/local/cuda-11.8/targets/x86_64-linux/include\n"
          ]
        }
      ]
    },
    {
      "cell_type": "code",
      "source": [
        "!lsb_release -a"
      ],
      "metadata": {
        "colab": {
          "base_uri": "https://localhost:8080/"
        },
        "id": "O4nDlkbvP4di",
        "outputId": "3a52d63d-846f-473a-b8db-bef8bd17bd37"
      },
      "execution_count": 69,
      "outputs": [
        {
          "output_type": "stream",
          "name": "stdout",
          "text": [
            "No LSB modules are available.\n",
            "Distributor ID:\tUbuntu\n",
            "Description:\tUbuntu 22.04.2 LTS\n",
            "Release:\t22.04\n",
            "Codename:\tjammy\n"
          ]
        }
      ]
    },
    {
      "cell_type": "code",
      "source": [
        "#@markdown  Downloading and Processing Data\n",
        "#@markdown Pick the preset scene or upload your own images/video\n",
        "import os\n",
        "import glob\n",
        "from google.colab import files\n",
        "from IPython.core.display import display, HTML\n",
        "\n",
        "scene = '\\uD83D\\uDCE4 upload your images' #@param ['🖼 poster', '🚜 dozer', '🌄 desolation', '📤 upload your images' , '🎥 upload your own video', '🔺 upload Polycam data', '💽 upload your own Record3D data']\n",
        "scene = ' '.join(scene.split(' ')[1:])\n",
        "\n",
        "if scene == \"upload Polycam data\":\n",
        "    %cd /content/\n",
        "    !mkdir -p /content/data/nerfstudio/custom_data\n",
        "    %cd /content/data/nerfstudio/custom_data/\n",
        "    uploaded = files.upload()\n",
        "    dir = os.getcwd()\n",
        "    if len(uploaded.keys()) > 1:\n",
        "        print(\"ERROR, upload a single .zip file when processing Polycam data\")\n",
        "    dataset_dir = [os.path.join(dir, f) for f in uploaded.keys()][0]\n",
        "    !ns-process-data polycam --data $dataset_dir --output-dir /content/data/nerfstudio/custom_data/\n",
        "    scene = \"custom_data\"\n",
        "elif scene == 'upload your own Record3D data':\n",
        "    display(HTML('Zip your Record3D folder, and upload.'))\n",
        "    display(HTML('More information on Record3D can be found here.'))\n",
        "    %cd /content/\n",
        "    !mkdir -p /content/data/nerfstudio/custom_data\n",
        "    %cd /content/data/nerfstudio/custom_data/\n",
        "    uploaded = files.upload()\n",
        "    dir = os.getcwd()\n",
        "    preupload_datasets = [os.path.join(dir, f) for f in uploaded.keys()]\n",
        "    record_3d_zipfile = preupload_datasets[0]\n",
        "    !unzip $record_3d_zipfile -d /content/data/nerfstudio/custom_data\n",
        "    custom_data_directory = glob.glob('/content/data/nerfstudio/custom_data/*')[0]\n",
        "    !ns-process-data record3d --data $custom_data_directory --output-dir /content/data/nerfstudio/custom_data/\n",
        "    scene = \"custom_data\"\n",
        "elif scene in ['upload your images', 'upload your own video']:\n",
        "    display(HTML('Select your custom data'))\n",
        "    display(HTML('You can select multiple images by pressing ctrl, cmd or shift and click.'))\n",
        "    display(HTML('Note: This may take time, especially on higher resolution inputs, so we recommend to download dataset after creation.'))\n",
        "    !mkdir -p /content/data/nerfstudio/custom_data\n",
        "    if scene == 'upload your images':\n",
        "        !mkdir -p /content/data/nerfstudio/custom_data/raw_images\n",
        "        %cd /content/data/nerfstudio/custom_data/raw_images\n",
        "        uploaded = files.upload()\n",
        "        dir = os.getcwd()\n",
        "    else:\n",
        "        %cd /content/data/nerfstudio/custom_data/\n",
        "        uploaded = files.upload()\n",
        "        dir = os.getcwd()\n",
        "    preupload_datasets = [os.path.join(dir, f) for f in uploaded.keys()]\n",
        "    del uploaded\n",
        "    %cd /content/\n",
        "\n",
        "    if scene == 'upload your images':\n",
        "        !ns-process-data images --data /content/data/nerfstudio/custom_data/raw_images --output-dir /content/data/nerfstudio/custom_data/\n",
        "    else:\n",
        "        video_path = preupload_datasets[0]\n",
        "        !ns-process-data video --data $video_path --output-dir /content/data/nerfstudio/custom_data/\n",
        "\n",
        "    scene = \"custom_data\"\n",
        "else:\n",
        "    %cd /content/\n",
        "    !ns-download-data nerfstudio --capture-name=$scene\n",
        "\n",
        "print(\"Data Processing Succeeded!\")"
      ],
      "metadata": {
        "colab": {
          "base_uri": "https://localhost:8080/",
          "height": 1000
        },
        "id": "tq-JXCDWCpIa",
        "outputId": "14fe53b1-46ce-4ddd-a598-714be7d33e98"
      },
      "execution_count": 1,
      "outputs": [
        {
          "output_type": "display_data",
          "data": {
            "text/plain": [
              "<IPython.core.display.HTML object>"
            ],
            "text/html": [
              "Select your custom data"
            ]
          },
          "metadata": {}
        },
        {
          "output_type": "display_data",
          "data": {
            "text/plain": [
              "<IPython.core.display.HTML object>"
            ],
            "text/html": [
              "You can select multiple images by pressing ctrl, cmd or shift and click."
            ]
          },
          "metadata": {}
        },
        {
          "output_type": "display_data",
          "data": {
            "text/plain": [
              "<IPython.core.display.HTML object>"
            ],
            "text/html": [
              "Note: This may take time, especially on higher resolution inputs, so we recommend to download dataset after creation."
            ]
          },
          "metadata": {}
        },
        {
          "output_type": "stream",
          "name": "stdout",
          "text": [
            "/content/data/nerfstudio/custom_data/raw_images\n"
          ]
        },
        {
          "output_type": "display_data",
          "data": {
            "text/plain": [
              "<IPython.core.display.HTML object>"
            ],
            "text/html": [
              "\n",
              "     <input type=\"file\" id=\"files-73ebc3ce-0565-4551-8d3c-24060f1ef771\" name=\"files[]\" multiple disabled\n",
              "        style=\"border:none\" />\n",
              "     <output id=\"result-73ebc3ce-0565-4551-8d3c-24060f1ef771\">\n",
              "      Upload widget is only available when the cell has been executed in the\n",
              "      current browser session. Please rerun this cell to enable.\n",
              "      </output>\n",
              "      <script>// Copyright 2017 Google LLC\n",
              "//\n",
              "// Licensed under the Apache License, Version 2.0 (the \"License\");\n",
              "// you may not use this file except in compliance with the License.\n",
              "// You may obtain a copy of the License at\n",
              "//\n",
              "//      http://www.apache.org/licenses/LICENSE-2.0\n",
              "//\n",
              "// Unless required by applicable law or agreed to in writing, software\n",
              "// distributed under the License is distributed on an \"AS IS\" BASIS,\n",
              "// WITHOUT WARRANTIES OR CONDITIONS OF ANY KIND, either express or implied.\n",
              "// See the License for the specific language governing permissions and\n",
              "// limitations under the License.\n",
              "\n",
              "/**\n",
              " * @fileoverview Helpers for google.colab Python module.\n",
              " */\n",
              "(function(scope) {\n",
              "function span(text, styleAttributes = {}) {\n",
              "  const element = document.createElement('span');\n",
              "  element.textContent = text;\n",
              "  for (const key of Object.keys(styleAttributes)) {\n",
              "    element.style[key] = styleAttributes[key];\n",
              "  }\n",
              "  return element;\n",
              "}\n",
              "\n",
              "// Max number of bytes which will be uploaded at a time.\n",
              "const MAX_PAYLOAD_SIZE = 100 * 1024;\n",
              "\n",
              "function _uploadFiles(inputId, outputId) {\n",
              "  const steps = uploadFilesStep(inputId, outputId);\n",
              "  const outputElement = document.getElementById(outputId);\n",
              "  // Cache steps on the outputElement to make it available for the next call\n",
              "  // to uploadFilesContinue from Python.\n",
              "  outputElement.steps = steps;\n",
              "\n",
              "  return _uploadFilesContinue(outputId);\n",
              "}\n",
              "\n",
              "// This is roughly an async generator (not supported in the browser yet),\n",
              "// where there are multiple asynchronous steps and the Python side is going\n",
              "// to poll for completion of each step.\n",
              "// This uses a Promise to block the python side on completion of each step,\n",
              "// then passes the result of the previous step as the input to the next step.\n",
              "function _uploadFilesContinue(outputId) {\n",
              "  const outputElement = document.getElementById(outputId);\n",
              "  const steps = outputElement.steps;\n",
              "\n",
              "  const next = steps.next(outputElement.lastPromiseValue);\n",
              "  return Promise.resolve(next.value.promise).then((value) => {\n",
              "    // Cache the last promise value to make it available to the next\n",
              "    // step of the generator.\n",
              "    outputElement.lastPromiseValue = value;\n",
              "    return next.value.response;\n",
              "  });\n",
              "}\n",
              "\n",
              "/**\n",
              " * Generator function which is called between each async step of the upload\n",
              " * process.\n",
              " * @param {string} inputId Element ID of the input file picker element.\n",
              " * @param {string} outputId Element ID of the output display.\n",
              " * @return {!Iterable<!Object>} Iterable of next steps.\n",
              " */\n",
              "function* uploadFilesStep(inputId, outputId) {\n",
              "  const inputElement = document.getElementById(inputId);\n",
              "  inputElement.disabled = false;\n",
              "\n",
              "  const outputElement = document.getElementById(outputId);\n",
              "  outputElement.innerHTML = '';\n",
              "\n",
              "  const pickedPromise = new Promise((resolve) => {\n",
              "    inputElement.addEventListener('change', (e) => {\n",
              "      resolve(e.target.files);\n",
              "    });\n",
              "  });\n",
              "\n",
              "  const cancel = document.createElement('button');\n",
              "  inputElement.parentElement.appendChild(cancel);\n",
              "  cancel.textContent = 'Cancel upload';\n",
              "  const cancelPromise = new Promise((resolve) => {\n",
              "    cancel.onclick = () => {\n",
              "      resolve(null);\n",
              "    };\n",
              "  });\n",
              "\n",
              "  // Wait for the user to pick the files.\n",
              "  const files = yield {\n",
              "    promise: Promise.race([pickedPromise, cancelPromise]),\n",
              "    response: {\n",
              "      action: 'starting',\n",
              "    }\n",
              "  };\n",
              "\n",
              "  cancel.remove();\n",
              "\n",
              "  // Disable the input element since further picks are not allowed.\n",
              "  inputElement.disabled = true;\n",
              "\n",
              "  if (!files) {\n",
              "    return {\n",
              "      response: {\n",
              "        action: 'complete',\n",
              "      }\n",
              "    };\n",
              "  }\n",
              "\n",
              "  for (const file of files) {\n",
              "    const li = document.createElement('li');\n",
              "    li.append(span(file.name, {fontWeight: 'bold'}));\n",
              "    li.append(span(\n",
              "        `(${file.type || 'n/a'}) - ${file.size} bytes, ` +\n",
              "        `last modified: ${\n",
              "            file.lastModifiedDate ? file.lastModifiedDate.toLocaleDateString() :\n",
              "                                    'n/a'} - `));\n",
              "    const percent = span('0% done');\n",
              "    li.appendChild(percent);\n",
              "\n",
              "    outputElement.appendChild(li);\n",
              "\n",
              "    const fileDataPromise = new Promise((resolve) => {\n",
              "      const reader = new FileReader();\n",
              "      reader.onload = (e) => {\n",
              "        resolve(e.target.result);\n",
              "      };\n",
              "      reader.readAsArrayBuffer(file);\n",
              "    });\n",
              "    // Wait for the data to be ready.\n",
              "    let fileData = yield {\n",
              "      promise: fileDataPromise,\n",
              "      response: {\n",
              "        action: 'continue',\n",
              "      }\n",
              "    };\n",
              "\n",
              "    // Use a chunked sending to avoid message size limits. See b/62115660.\n",
              "    let position = 0;\n",
              "    do {\n",
              "      const length = Math.min(fileData.byteLength - position, MAX_PAYLOAD_SIZE);\n",
              "      const chunk = new Uint8Array(fileData, position, length);\n",
              "      position += length;\n",
              "\n",
              "      const base64 = btoa(String.fromCharCode.apply(null, chunk));\n",
              "      yield {\n",
              "        response: {\n",
              "          action: 'append',\n",
              "          file: file.name,\n",
              "          data: base64,\n",
              "        },\n",
              "      };\n",
              "\n",
              "      let percentDone = fileData.byteLength === 0 ?\n",
              "          100 :\n",
              "          Math.round((position / fileData.byteLength) * 100);\n",
              "      percent.textContent = `${percentDone}% done`;\n",
              "\n",
              "    } while (position < fileData.byteLength);\n",
              "  }\n",
              "\n",
              "  // All done.\n",
              "  yield {\n",
              "    response: {\n",
              "      action: 'complete',\n",
              "    }\n",
              "  };\n",
              "}\n",
              "\n",
              "scope.google = scope.google || {};\n",
              "scope.google.colab = scope.google.colab || {};\n",
              "scope.google.colab._files = {\n",
              "  _uploadFiles,\n",
              "  _uploadFilesContinue,\n",
              "};\n",
              "})(self);\n",
              "</script> "
            ]
          },
          "metadata": {}
        },
        {
          "output_type": "stream",
          "name": "stdout",
          "text": [
            "Saving 78.jpg to 78.jpg\n",
            "Saving 77.jpg to 77.jpg\n",
            "Saving 76.jpg to 76.jpg\n",
            "Saving 75.jpg to 75.jpg\n",
            "Saving 74.jpg to 74.jpg\n",
            "Saving 73.jpg to 73.jpg\n",
            "Saving 72.jpg to 72.jpg\n",
            "Saving 71.jpg to 71.jpg\n",
            "Saving 70.jpg to 70.jpg\n",
            "Saving 69.jpg to 69.jpg\n",
            "Saving 68.jpg to 68.jpg\n",
            "Saving 67.jpg to 67.jpg\n",
            "Saving 66.jpg to 66.jpg\n",
            "Saving 65.jpg to 65.jpg\n",
            "Saving 64.jpg to 64.jpg\n",
            "Saving 63.jpg to 63.jpg\n",
            "Saving 62.jpg to 62.jpg\n",
            "Saving 61.jpg to 61.jpg\n",
            "Saving 60.jpg to 60.jpg\n",
            "Saving 59.jpg to 59.jpg\n",
            "Saving 58.jpg to 58.jpg\n",
            "Saving 57.jpg to 57.jpg\n",
            "Saving 56.jpg to 56.jpg\n",
            "Saving 55.jpg to 55.jpg\n",
            "Saving 54.jpg to 54.jpg\n",
            "Saving 53.jpg to 53.jpg\n",
            "Saving 52.jpg to 52.jpg\n",
            "Saving 51.jpg to 51.jpg\n",
            "Saving 50.jpg to 50.jpg\n",
            "Saving 49.jpg to 49.jpg\n",
            "Saving 48.jpg to 48.jpg\n",
            "Saving 47.jpg to 47.jpg\n",
            "Saving 46.jpg to 46.jpg\n",
            "Saving 45.jpg to 45.jpg\n",
            "Saving 44.jpg to 44.jpg\n",
            "Saving 43.jpg to 43.jpg\n",
            "Saving 42.jpg to 42.jpg\n",
            "Saving 41.jpg to 41.jpg\n",
            "Saving 40.jpg to 40.jpg\n",
            "Saving 39.jpg to 39.jpg\n",
            "Saving 38.jpg to 38.jpg\n",
            "Saving 37.jpg to 37.jpg\n",
            "Saving 36.jpg to 36.jpg\n",
            "Saving 35.jpg to 35.jpg\n",
            "Saving 34.jpg to 34.jpg\n",
            "Saving 33.jpg to 33.jpg\n",
            "Saving 32.jpg to 32.jpg\n",
            "Saving 31.jpg to 31.jpg\n",
            "Saving 30.jpg to 30.jpg\n",
            "Saving 29.jpg to 29.jpg\n",
            "Saving 28.jpg to 28.jpg\n",
            "Saving 27.jpg to 27.jpg\n",
            "Saving 26.jpg to 26.jpg\n",
            "Saving 25.jpg to 25.jpg\n",
            "Saving 24.jpg to 24.jpg\n",
            "Saving 23.jpg to 23.jpg\n",
            "Saving 22.jpg to 22.jpg\n",
            "Saving 21.jpg to 21.jpg\n",
            "Saving 20.jpg to 20.jpg\n",
            "Saving 19.jpg to 19.jpg\n",
            "Saving 18.jpg to 18.jpg\n",
            "Saving 17.jpg to 17.jpg\n",
            "Saving 16.jpg to 16.jpg\n",
            "Saving 15.jpg to 15.jpg\n",
            "Saving 14.jpg to 14.jpg\n",
            "Saving 13.jpg to 13.jpg\n",
            "Saving 12.jpg to 12.jpg\n",
            "Saving 11.jpg to 11.jpg\n",
            "Saving 10.jpg to 10.jpg\n",
            "Saving 9.jpg to 9.jpg\n",
            "Saving 8.jpg to 8.jpg\n",
            "Saving 7.jpg to 7.jpg\n",
            "Saving 6.jpg to 6.jpg\n",
            "Saving 5.jpg to 5.jpg\n",
            "Saving 4.jpg to 4.jpg\n",
            "Saving 3.jpg to 3.jpg\n",
            "Saving 2.jpg to 2.jpg\n",
            "Saving 1.jpg to 1.jpg\n",
            "Saving 0.jpg to 0.jpg\n",
            "/content\n",
            "\u001b[2K\u001b[2;36m[06:51:17]\u001b[0m\u001b[2;36m \u001b[0m\u001b[1;32m🎉 Done copying images.\u001b[0m                                                             \u001b]8;id=350312;file:///usr/local/lib/python3.10/dist-packages/nerfstudio/process_data/process_data_utils.py\u001b\\\u001b[2mprocess_data_utils.py\u001b[0m\u001b]8;;\u001b\\\u001b[2m:\u001b[0m\u001b]8;id=672113;file:///usr/local/lib/python3.10/dist-packages/nerfstudio/process_data/process_data_utils.py#305\u001b\\\u001b[2m305\u001b[0m\u001b]8;;\u001b\\\n",
            "\u001b[2K\u001b[32m( ●    )\u001b[0m \u001b[1;33mCopying images...\u001b[0m\n",
            "\u001b[1A\u001b[2K\u001b[31m────────────────────────────────────────────── \u001b[0m\u001b[1;31m 💀 💀 💀 ERROR 💀 💀 💀 \u001b[0m\u001b[31m ───────────────────────────────────────────────\u001b[0m\n",
            "\u001b[1;31mError running command: colmap -h\u001b[0m\n",
            "\u001b[31m────────────────────────────────────────────────────────────────────────────────────────────────────────────────────────\u001b[0m\n",
            "colmap: error while loading shared libraries: libGLEW.so.\u001b[1;36m2.1\u001b[0m: cannot open shared object file: No such file or directory\n",
            "\n",
            "Data Processing Succeeded!\n"
          ]
        }
      ]
    },
    {
      "cell_type": "code",
      "source": [
        "!ns-process-data images --data /content/data/nerfstudio/custom_data/raw_images --output-dir /content/data/nerfstudio/custom_data/"
      ],
      "metadata": {
        "colab": {
          "base_uri": "https://localhost:8080/"
        },
        "id": "znwHOx9rICnN",
        "outputId": "b8034aa7-a576-4fbb-c7a8-a047fc7b85a6"
      },
      "execution_count": 4,
      "outputs": [
        {
          "output_type": "stream",
          "name": "stdout",
          "text": [
            "\u001b[2K\u001b[2;36m[06:54:26]\u001b[0m\u001b[2;36m \u001b[0m\u001b[1;32m🎉 Done copying images.\u001b[0m                                                             \u001b]8;id=120141;file:///usr/local/lib/python3.10/dist-packages/nerfstudio/process_data/process_data_utils.py\u001b\\\u001b[2mprocess_data_utils.py\u001b[0m\u001b]8;;\u001b\\\u001b[2m:\u001b[0m\u001b]8;id=396610;file:///usr/local/lib/python3.10/dist-packages/nerfstudio/process_data/process_data_utils.py#305\u001b\\\u001b[2m305\u001b[0m\u001b]8;;\u001b\\\n",
            "\u001b[2K\u001b[32m( ●    )\u001b[0m \u001b[1;33mCopying images...\u001b[0m\n",
            "\u001b[1A\u001b[2K\u001b[31m────────────────────────────────────────────── \u001b[0m\u001b[1;31m 💀 💀 💀 ERROR 💀 💀 💀 \u001b[0m\u001b[31m ───────────────────────────────────────────────\u001b[0m\n",
            "\u001b[1;31mError running command: colmap -h\u001b[0m\n",
            "\u001b[31m────────────────────────────────────────────────────────────────────────────────────────────────────────────────────────\u001b[0m\n",
            "colmap: error while loading shared libraries: libGLEW.so.\u001b[1;36m2.1\u001b[0m: cannot open shared object file: No such file or directory\n",
            "\n"
          ]
        }
      ]
    },
    {
      "cell_type": "code",
      "source": [
        "!grep -r \"copying\" ."
      ],
      "metadata": {
        "id": "SMEDfRgqMpN1"
      },
      "execution_count": 33,
      "outputs": []
    },
    {
      "cell_type": "code",
      "source": [
        "\n",
        "!colmap -h"
      ],
      "metadata": {
        "colab": {
          "base_uri": "https://localhost:8080/"
        },
        "id": "fWam0nMeIeAr",
        "outputId": "388c2b39-a060-46b8-b7a9-37d6a673b8d5"
      },
      "execution_count": 29,
      "outputs": [
        {
          "output_type": "stream",
          "name": "stdout",
          "text": [
            "colmap: symbol lookup error: colmap: undefined symbol: _ZN5ceres6Solver7SummaryC1Ev\n"
          ]
        }
      ]
    },
    {
      "cell_type": "code",
      "source": [
        "!sudo find / -name libceres.so*"
      ],
      "metadata": {
        "colab": {
          "base_uri": "https://localhost:8080/"
        },
        "id": "evInPbFnLjZV",
        "outputId": "529b6ae4-7197-48c4-f386-0a852c250440"
      },
      "execution_count": 27,
      "outputs": [
        {
          "output_type": "stream",
          "name": "stdout",
          "text": [
            "/usr/lib/libceres.so.2.0.0\n",
            "/usr/lib/libceres.so\n",
            "/usr/lib/libceres.so.2\n",
            "/usr/lib/libceres.so.1\n",
            "find: ‘/proc/59/task/59/net’: Invalid argument\n",
            "find: ‘/proc/59/net’: Invalid argument\n"
          ]
        }
      ]
    },
    {
      "cell_type": "code",
      "source": [
        "!rm /usr/lib/libceres.so.1\n",
        "!sudo ln -s /usr/lib/libceres.so.2.0.0 /usr/lib/libceres.so.1"
      ],
      "metadata": {
        "id": "6UAGTkzcJ4Ig"
      },
      "execution_count": 28,
      "outputs": []
    },
    {
      "cell_type": "code",
      "source": [
        "#@markdown Set up and Start Viewer\n",
        "\n",
        "%cd /content\n",
        "\n",
        "# Install localtunnel\n",
        "# We are using localtunnel https://github.com/localtunnel/localtunnel but ngrok could also be used\n",
        "!npm install -g localtunnel\n",
        "\n",
        "# Tunnel port 7007, the default for\n",
        "!rm url.txt 2> /dev/null\n",
        "get_ipython().system_raw('lt --port 7007 >> url.txt 2>&1 &')\n",
        "\n",
        "import time\n",
        "time.sleep(3) # the previous command needs time to write to url.txt\n",
        "\n",
        "\n",
        "with open('url.txt') as f:\n",
        "  lines = f.readlines()\n",
        "websocket_url = lines[0].split(\": \")[1].strip().replace(\"https\", \"wss\")\n",
        "# from nerfstudio.utils.io import load_from_json\n",
        "# from pathlib import Path\n",
        "# json_filename = \"nerfstudio/nerfstudio/viewer/app/package.json\"\n",
        "# version = load_from_json(Path(json_filename))[\"version\"]\n",
        "url = f\"https://viewer.nerf.studio/?websocket_url={websocket_url}\"\n",
        "print(url)\n",
        "print(\"You may need to click Refresh Page after you start training!\")\n",
        "from IPython import display\n",
        "display.IFrame(src=url, height=800, width=\"100%\")"
      ],
      "metadata": {
        "colab": {
          "base_uri": "https://localhost:8080/",
          "height": 928
        },
        "id": "Ceyhe5I7C_Nj",
        "outputId": "92356f16-2497-450a-fe38-aec73508f1f9"
      },
      "execution_count": 2,
      "outputs": [
        {
          "output_type": "stream",
          "name": "stdout",
          "text": [
            "/content\n",
            "\u001b[K\u001b[?25h/tools/node/bin/lt -> /tools/node/lib/node_modules/localtunnel/bin/lt.js\n",
            "+ localtunnel@2.0.2\n",
            "added 22 packages from 22 contributors in 1.427s\n",
            "https://viewer.nerf.studio/?websocket_url=wss://strong-pens-float.loca.lt\n",
            "You may need to click Refresh Page after you start training!\n"
          ]
        },
        {
          "output_type": "execute_result",
          "data": {
            "text/plain": [
              "<IPython.lib.display.IFrame at 0x7b5f8f2c8e80>"
            ],
            "text/html": [
              "\n",
              "        <iframe\n",
              "            width=\"100%\"\n",
              "            height=\"800\"\n",
              "            src=\"https://viewer.nerf.studio/?websocket_url=wss://strong-pens-float.loca.lt\"\n",
              "            frameborder=\"0\"\n",
              "            allowfullscreen\n",
              "            \n",
              "        ></iframe>\n",
              "        "
            ]
          },
          "metadata": {},
          "execution_count": 2
        }
      ]
    },
    {
      "cell_type": "code",
      "source": [
        "#@markdown Start Training\n",
        "\n",
        "%cd /content\n",
        "if os.path.exists(f\"data/nerfstudio/{scene}/transforms.json\"):\n",
        "    !ns-train nerfacto --viewer.websocket-port 7007 nerfstudio-data --data data/nerfstudio/$scene --downscale-factor 4\n",
        "else:\n",
        "    from IPython.core.display import display, HTML\n",
        "    display(HTML('Error: Data processing did not complete'))\n",
        "    display(HTML('Please re-run `Downloading and Processing Data`, or view the FAQ for more info.'))"
      ],
      "metadata": {
        "colab": {
          "base_uri": "https://localhost:8080/",
          "height": 70
        },
        "id": "p74H3UppH2pt",
        "outputId": "6d6fb24e-60f0-4bcd-caad-4950d35fee77"
      },
      "execution_count": 3,
      "outputs": [
        {
          "output_type": "stream",
          "name": "stdout",
          "text": [
            "/content\n"
          ]
        },
        {
          "output_type": "display_data",
          "data": {
            "text/plain": [
              "<IPython.core.display.HTML object>"
            ],
            "text/html": [
              "Error: Data processing did not complete"
            ]
          },
          "metadata": {}
        },
        {
          "output_type": "display_data",
          "data": {
            "text/plain": [
              "<IPython.core.display.HTML object>"
            ],
            "text/html": [
              "Please re-run `Downloading and Processing Data`, or view the FAQ for more info."
            ]
          },
          "metadata": {}
        }
      ]
    },
    {
      "cell_type": "code",
      "source": [],
      "metadata": {
        "id": "PLtE8EY3IACD"
      },
      "execution_count": null,
      "outputs": []
    }
  ]
}