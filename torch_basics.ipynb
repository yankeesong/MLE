{
  "nbformat": 4,
  "nbformat_minor": 0,
  "metadata": {
    "colab": {
      "name": "torch_basics.ipynb",
      "provenance": [],
      "authorship_tag": "ABX9TyOexn168LIcq0X1d1beKrlX",
      "include_colab_link": true
    },
    "kernelspec": {
      "name": "python3",
      "display_name": "Python 3"
    },
    "language_info": {
      "name": "python"
    }
  },
  "cells": [
    {
      "cell_type": "markdown",
      "metadata": {
        "id": "view-in-github",
        "colab_type": "text"
      },
      "source": [
        "<a href=\"https://colab.research.google.com/github/yankeesong/MLE/blob/main/torch_basics.ipynb\" target=\"_parent\"><img src=\"https://colab.research.google.com/assets/colab-badge.svg\" alt=\"Open In Colab\"/></a>"
      ]
    },
    {
      "cell_type": "code",
      "execution_count": 2,
      "metadata": {
        "id": "QSiKgoWaWF2S"
      },
      "outputs": [],
      "source": [
        "import torch"
      ]
    },
    {
      "cell_type": "markdown",
      "source": [
        "Lots of syntaxes are similar to pandas/numpy"
      ],
      "metadata": {
        "id": "zvt6g4V-ZT6n"
      }
    },
    {
      "cell_type": "markdown",
      "source": [
        "## Data manipulation"
      ],
      "metadata": {
        "id": "oRI01NsJXOdI"
      }
    },
    {
      "cell_type": "code",
      "source": [
        "a = torch.arange(12)\n",
        "a.numel()\n",
        "a.reshape(3,4)\n",
        "torch.zeros((2,3,4))\n",
        "torch.ones((2,3,4))\n",
        "torch.randn(3,4)"
      ],
      "metadata": {
        "id": "0LSuuHdxWa7i"
      },
      "execution_count": null,
      "outputs": []
    },
    {
      "cell_type": "markdown",
      "source": [
        "## Data Preprocessing"
      ],
      "metadata": {
        "id": "b0ae5_7iXVH1"
      }
    },
    {
      "cell_type": "markdown",
      "source": [
        ""
      ],
      "metadata": {
        "id": "NRzyRwtXXN06"
      }
    },
    {
      "cell_type": "code",
      "source": [
        "X = pd.read_csv(filename)\n",
        "X = torch.tensor(X.values)"
      ],
      "metadata": {
        "colab": {
          "base_uri": "https://localhost:8080/"
        },
        "id": "zbcfhyw8WeaO",
        "outputId": "be274f11-6e7f-4760-cd93-947f420a656f"
      },
      "execution_count": null,
      "outputs": [
        {
          "output_type": "execute_result",
          "data": {
            "text/plain": [
              "19"
            ]
          },
          "metadata": {},
          "execution_count": 3
        }
      ]
    },
    {
      "cell_type": "markdown",
      "source": [
        "## Linear Algebra"
      ],
      "metadata": {
        "id": "i7G6VXgGZhsI"
      }
    },
    {
      "cell_type": "code",
      "source": [
        "a = torch.tensor([[1,2],[3,4]])\n",
        "b = torch.tensor([[5,6],[7,8]])\n",
        "a @ b\n",
        "torch.mm(a,b)"
      ],
      "metadata": {
        "id": "WjGb3FAjZkbs",
        "outputId": "b59564cd-4c7c-48cd-9452-bc4aa821e3ec",
        "colab": {
          "base_uri": "https://localhost:8080/"
        }
      },
      "execution_count": 5,
      "outputs": [
        {
          "output_type": "stream",
          "name": "stdout",
          "text": [
            "tensor([[19, 22],\n",
            "        [43, 50]])\n"
          ]
        },
        {
          "output_type": "execute_result",
          "data": {
            "text/plain": [
              "tensor([[19, 22],\n",
              "        [43, 50]])"
            ]
          },
          "metadata": {},
          "execution_count": 5
        }
      ]
    },
    {
      "cell_type": "markdown",
      "source": [
        "## Automatic Differentiation"
      ],
      "metadata": {
        "id": "WcNrKGPv4XCM"
      }
    },
    {
      "cell_type": "code",
      "source": [
        "# Simple gradient\n",
        "x = torch.arange(4.0)\n",
        "x.requires_grad_(True)\n",
        "y = 2 * torch.dot(x, x)\n",
        "y.backward()\n",
        "x.grad"
      ],
      "metadata": {
        "id": "pyzNlqsDZsmN",
        "outputId": "f831ea83-404f-40d4-e356-d222edc49058",
        "colab": {
          "base_uri": "https://localhost:8080/"
        }
      },
      "execution_count": 4,
      "outputs": [
        {
          "output_type": "execute_result",
          "data": {
            "text/plain": [
              "tensor([ 0.,  4.,  8., 12.])"
            ]
          },
          "metadata": {},
          "execution_count": 4
        }
      ]
    },
    {
      "cell_type": "code",
      "source": [
        "# Reset\n",
        "x.grad.zero_()\n",
        "y = x.sum()\n",
        "y.backward()\n",
        "x.grad"
      ],
      "metadata": {
        "id": "LpIvcmYF4k_p",
        "outputId": "39d629cc-5d35-47b3-81de-d1e32c9882fb",
        "colab": {
          "base_uri": "https://localhost:8080/"
        }
      },
      "execution_count": 5,
      "outputs": [
        {
          "output_type": "execute_result",
          "data": {
            "text/plain": [
              "tensor([1., 1., 1., 1.])"
            ]
          },
          "metadata": {},
          "execution_count": 5
        }
      ]
    },
    {
      "cell_type": "code",
      "source": [
        "# Jacobian for vector valued y\n",
        "x.grad.zero_()\n",
        "y = x * x\n",
        "y.backward(gradient=torch.ones(len(y)))  # Faster: y.sum().backward()\n",
        "x.grad"
      ],
      "metadata": {
        "id": "72K4efP-4yWa",
        "outputId": "ad974c93-710f-4e80-db7f-05e5fb44b2a7",
        "colab": {
          "base_uri": "https://localhost:8080/"
        }
      },
      "execution_count": 8,
      "outputs": [
        {
          "output_type": "execute_result",
          "data": {
            "text/plain": [
              "tensor([0., 2., 4., 6.])"
            ]
          },
          "metadata": {},
          "execution_count": 8
        }
      ]
    },
    {
      "cell_type": "code",
      "source": [
        "# For isolating one variable (partial derivative)\n",
        "x.grad.zero_()\n",
        "y = x * x\n",
        "u = y.detach()\n",
        "z = u * x\n",
        "\n",
        "z.sum().backward()\n",
        "x.grad == u"
      ],
      "metadata": {
        "id": "eqalGgXi5GGy",
        "outputId": "e5abd2b2-cc64-404a-8c69-7c9a63d339df",
        "colab": {
          "base_uri": "https://localhost:8080/"
        }
      },
      "execution_count": 7,
      "outputs": [
        {
          "output_type": "execute_result",
          "data": {
            "text/plain": [
              "tensor([0., 1., 4., 9.], grad_fn=<MulBackward0>)"
            ]
          },
          "metadata": {},
          "execution_count": 7
        }
      ]
    },
    {
      "cell_type": "code",
      "source": [
        ""
      ],
      "metadata": {
        "id": "VBMq7qw25GhB"
      },
      "execution_count": null,
      "outputs": []
    }
  ]
}