{
  "nbformat": 4,
  "nbformat_minor": 0,
  "metadata": {
    "colab": {
      "name": "torch_basics.ipynb",
      "provenance": [],
      "authorship_tag": "ABX9TyPQvh1x4iciODBxTqw5C77g",
      "include_colab_link": true
    },
    "kernelspec": {
      "name": "python3",
      "display_name": "Python 3"
    },
    "language_info": {
      "name": "python"
    }
  },
  "cells": [
    {
      "cell_type": "markdown",
      "metadata": {
        "id": "view-in-github",
        "colab_type": "text"
      },
      "source": [
        "<a href=\"https://colab.research.google.com/github/yankeesong/MLE/blob/main/torch_basics.ipynb\" target=\"_parent\"><img src=\"https://colab.research.google.com/assets/colab-badge.svg\" alt=\"Open In Colab\"/></a>"
      ]
    },
    {
      "cell_type": "code",
      "execution_count": 1,
      "metadata": {
        "id": "QSiKgoWaWF2S"
      },
      "outputs": [],
      "source": [
        "import torch"
      ]
    },
    {
      "cell_type": "markdown",
      "source": [
        "## Data manipulation"
      ],
      "metadata": {
        "id": "oRI01NsJXOdI"
      }
    },
    {
      "cell_type": "code",
      "source": [
        "a = torch.arange(12)\n",
        "a.numel()\n",
        "a.reshape(3,4)\n",
        "torch.zeros((2,3,4))\n",
        "torch.ones((2,3,4))\n",
        "torch.randn(3,4)"
      ],
      "metadata": {
        "id": "0LSuuHdxWa7i"
      },
      "execution_count": 2,
      "outputs": []
    },
    {
      "cell_type": "markdown",
      "source": [
        "## Date Preprocessing"
      ],
      "metadata": {
        "id": "b0ae5_7iXVH1"
      }
    },
    {
      "cell_type": "markdown",
      "source": [
        ""
      ],
      "metadata": {
        "id": "NRzyRwtXXN06"
      }
    },
    {
      "cell_type": "code",
      "source": [
        "X = pd.read_csv(filename)\n",
        "X = torch.tensor(X.values)"
      ],
      "metadata": {
        "colab": {
          "base_uri": "https://localhost:8080/"
        },
        "id": "zbcfhyw8WeaO",
        "outputId": "be274f11-6e7f-4760-cd93-947f420a656f"
      },
      "execution_count": 3,
      "outputs": [
        {
          "output_type": "execute_result",
          "data": {
            "text/plain": [
              "19"
            ]
          },
          "metadata": {},
          "execution_count": 3
        }
      ]
    }
  ]
}