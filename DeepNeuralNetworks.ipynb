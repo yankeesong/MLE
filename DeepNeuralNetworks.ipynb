{
  "cells": [
    {
      "cell_type": "code",
      "execution_count": 10,
      "metadata": {
        "id": "m5ad-IOTA1_D"
      },
      "outputs": [],
      "source": [
        "#!git clone https://www.github.com/yankeesong/MLE.git\n",
        "#!pip install d2l==1.0.0a1.post0\n",
        "from google.colab import files\n",
        "import sys\n",
        "sys.path.insert(0,'/content/MLE')\n",
        "from dl_helpers_Yanke import *"
      ]
    },
    {
      "cell_type": "code",
      "source": [
        "num_gpus()"
      ],
      "metadata": {
        "id": "C6PmVvPiA6TZ",
        "outputId": "90c342ae-fa96-4a35-a0cf-9a5aa0a951de",
        "colab": {
          "base_uri": "https://localhost:8080/"
        }
      },
      "execution_count": 13,
      "outputs": [
        {
          "output_type": "execute_result",
          "data": {
            "text/plain": [
              "0"
            ]
          },
          "metadata": {},
          "execution_count": 13
        }
      ]
    },
    {
      "cell_type": "code",
      "source": [],
      "metadata": {
        "id": "86A3qYj1Bf-c"
      },
      "execution_count": null,
      "outputs": []
    }
  ],
  "metadata": {
    "kernelspec": {
      "display_name": "Python 3.9.7 64-bit",
      "language": "python",
      "name": "python3"
    },
    "language_info": {
      "name": "python",
      "version": "3.9.7"
    },
    "orig_nbformat": 4,
    "vscode": {
      "interpreter": {
        "hash": "aee8b7b246df8f9039afb4144a1f6fd8d2ca17a180786b69acc140d282b71a49"
      }
    },
    "colab": {
      "provenance": []
    }
  },
  "nbformat": 4,
  "nbformat_minor": 0
}